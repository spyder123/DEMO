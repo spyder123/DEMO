{
 "cells": [
  {
   "cell_type": "markdown",
   "id": "0730c7e3",
   "metadata": {},
   "source": [
    "### Q2. Implement a queue using a list in Python. Include the necessary methods such as enqueue, dequeue, and is Empty."
   ]
  },
  {
   "cell_type": "code",
   "execution_count": 1,
   "id": "889ffac6",
   "metadata": {},
   "outputs": [
    {
     "name": "stdout",
     "output_type": "stream",
     "text": [
      "8\n",
      "9\n",
      "False\n",
      "10\n",
      "True\n"
     ]
    }
   ],
   "source": [
    "class Queue:\n",
    "    def __init__(self):\n",
    "        self.queue = []\n",
    "\n",
    "    def enqueue(self, item):\n",
    "        self.queue.append(item)\n",
    "\n",
    "    def dequeue(self):\n",
    "        if self.is_empty():\n",
    "            return \"Queue is empty\"\n",
    "        return self.queue.pop(0)\n",
    "\n",
    "    def is_empty(self):\n",
    "        return len(self.queue) == 0\n",
    "queue = Queue()\n",
    "\n",
    "queue.enqueue(8)\n",
    "queue.enqueue(9)\n",
    "queue.enqueue(10)\n",
    "\n",
    "print(queue.dequeue())\n",
    "print(queue.dequeue())\n",
    "print(queue.is_empty()) \n",
    "print(queue.dequeue()) \n",
    "print(queue.is_empty())"
   ]
  }
 ],
 "metadata": {
  "kernelspec": {
   "display_name": "Python 3 (ipykernel)",
   "language": "python",
   "name": "python3"
  },
  "language_info": {
   "codemirror_mode": {
    "name": "ipython",
    "version": 3
   },
   "file_extension": ".py",
   "mimetype": "text/x-python",
   "name": "python",
   "nbconvert_exporter": "python",
   "pygments_lexer": "ipython3",
   "version": "3.9.13"
  }
 },
 "nbformat": 4,
 "nbformat_minor": 5
}
